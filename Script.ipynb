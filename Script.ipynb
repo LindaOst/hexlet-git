{
  "cells": [
    {
      "cell_type": "code",
      "execution_count": 1,
      "metadata": {
        "trusted": true
      },
      "outputs": [],
      "source": [
        "def get_event_date(event):\n",
        "    return event.date \n",
        "def current_users(events):\n",
        "    events.sort(key=get_event_date)\n",
        "    mashines = {}\n",
        "    for event in events:\n",
        "        if event.mashine not in mashines:\n",
        "            mashines[event.mashine] = set()\n",
        "        if event.type == \"login\": \n",
        "            mashines[event.mashine].add(event.user)\n",
        "        elif event.type == 'logout':\n",
        "            mashines[event.mashine].remove(event.user)\n",
        "    return mashines\n",
        "def generate_report(mashines):\n",
        "    for mashine, users in mashines.items():\n",
        "        if len(users) > 0:\n",
        "            user_list = \",\".join(users)\n",
        "            print('{}:{}'.format(mashine, user_list))       \n",
        "                \n",
        "    \n"
      ]
    },
    {
      "cell_type": "code",
      "execution_count": 2,
      "metadata": {
        "trusted": true
      },
      "outputs": [],
      "source": [
        "class Event:\n",
        "    def __init__(self,event_date,event_type,mashine_name,user):\n",
        "        self.date = event_date\n",
        "        self.type = event_type\n",
        "        self.mashine = mashine_name\n",
        "        self.user = user"
      ]
    },
    {
      "cell_type": "code",
      "execution_count": 3,
      "metadata": {
        "trusted": true
      },
      "outputs": [],
      "source": [
        "events = [\n",
        "    Event (\"2022-02-13\", \"login\", \"workstation.local\", \"Jordan\"),\n",
        "    Event (\"2022-02-14\", \"login\", \"workstation.local\", \"Mary\"),\n",
        "]"
      ]
    },
    {
      "cell_type": "code",
      "execution_count": 4,
      "metadata": {
        "trusted": true
      },
      "outputs": [
        {
          "name": "stdout",
          "output_type": "stream",
          "text": [
            "{'workstation.local': {'Jordan', 'Mary'}}\n"
          ]
        }
      ],
      "source": [
        "users = current_users(events)\n",
        "print(users)"
      ]
    },
    {
      "cell_type": "code",
      "execution_count": 5,
      "metadata": {
        "trusted": true
      },
      "outputs": [
        {
          "name": "stdout",
          "output_type": "stream",
          "text": [
            "workstation.local:Jordan,Mary\n"
          ]
        }
      ],
      "source": [
        "generate_report(users)"
      ]
    },
    {
      "cell_type": "code",
      "execution_count": null,
      "metadata": {},
      "outputs": [],
      "source": []
    }
  ],
  "metadata": {
    "kernelspec": {
      "display_name": "Python 3",
      "language": "python",
      "name": "python3"
    },
    "language_info": {
      "codemirror_mode": {
        "name": "ipython",
        "version": 3
      },
      "file_extension": ".py",
      "mimetype": "text/x-python",
      "name": "python",
      "nbconvert_exporter": "python",
      "pygments_lexer": "ipython3",
      "version": "3.11.0"
    }
  },
  "nbformat": 4,
  "nbformat_minor": 4
}
